{
 "cells": [
  {
   "cell_type": "code",
   "execution_count": 2,
   "metadata": {},
   "outputs": [],
   "source": [
    "from dotenv import load_dotenv\n",
    "import os\n",
    "from langchain_community.graphs import Neo4jGraph\n",
    "\n",
    "\n",
    "from langchain_community.graphs import Neo4jGraph\n",
    "\n",
    "load_dotenv()\n",
    "\n",
    "AURA_INSTANCENAME = os.environ[\"AURA_INSTANCENAME\"]\n",
    "NEO4J_URI = os.environ[\"NEO4J_URI\"]\n",
    "NEO4J_USERNAME = os.environ[\"NEO4J_USERNAME\"]\n",
    "NEO4J_PASSWORD = os.environ[\"NEO4J_PASSWORD\"]\n",
    "NEO4J_DATABASE = os.environ[\"NEO4J_DATABASE\"]\n",
    "AUTH = (NEO4J_USERNAME, NEO4J_PASSWORD)"
   ]
  },
  {
   "cell_type": "code",
   "execution_count": 4,
   "metadata": {},
   "outputs": [
    {
     "name": "stderr",
     "output_type": "stream",
     "text": [
      "/var/folders/4_/0706vvm51q9cr35nk1974z6r0000gn/T/ipykernel_77424/3135869052.py:1: LangChainDeprecationWarning: The class `Neo4jGraph` was deprecated in LangChain 0.3.8 and will be removed in 1.0. An updated version of the class exists in the :class:`~langchain-neo4j package and should be used instead. To use it run `pip install -U :class:`~langchain-neo4j` and import as `from :class:`~langchain_neo4j import Neo4jGraph``.\n",
      "  kg = Neo4jGraph(\n"
     ]
    }
   ],
   "source": [
    "kg = Neo4jGraph(\n",
    "    url=NEO4J_URI,\n",
    "    username=NEO4J_USERNAME,\n",
    "    password=NEO4J_PASSWORD,\n",
    "    database=NEO4J_DATABASE,\n",
    ")"
   ]
  },
  {
   "cell_type": "code",
   "execution_count": 9,
   "metadata": {},
   "outputs": [
    {
     "data": {
      "text/plain": [
       "[]"
      ]
     },
     "execution_count": 9,
     "metadata": {},
     "output_type": "execute_result"
    }
   ],
   "source": [
    "kg.query(\n",
    "    \"\"\"\n",
    "    CREATE VECTOR INDEX health_providers_embeddings IF NOT EXISTS\n",
    "    FOR (hp:HealthcareProvider) ON (hp.comprehensiveEmbedding)\n",
    "    OPTIONS {\n",
    "      indexConfig: {\n",
    "        `vector.dimensions`: 1536,\n",
    "        `vector.similarity_function`: 'cosine'\n",
    "      }\n",
    "    }\n",
    "    \"\"\"\n",
    ")"
   ]
  },
  {
   "cell_type": "code",
   "execution_count": 10,
   "metadata": {},
   "outputs": [
    {
     "name": "stdout",
     "output_type": "stream",
     "text": [
      "[{'id': 2, 'name': 'health_providers_embeddings', 'state': 'ONLINE', 'populationPercent': 100.0, 'type': 'VECTOR', 'entityType': 'NODE', 'labelsOrTypes': ['HealthcareProvider'], 'properties': ['comprehensiveEmbedding'], 'indexProvider': 'vector-2.0', 'owningConstraint': None, 'lastRead': None, 'readCount': None}]\n"
     ]
    }
   ],
   "source": [
    "res = kg.query(\n",
    "    \"\"\"\n",
    "  SHOW VECTOR INDEXES\n",
    "  \"\"\"\n",
    ")\n",
    "print(res)"
   ]
  },
  {
   "cell_type": "code",
   "execution_count": null,
   "metadata": {},
   "outputs": [],
   "source": [
    "kg.query(\n",
    "    \"\"\"\n",
    "    MATCH (hp:HealthcareProvider)-[:TREATS]->(p:Patient)\n",
    "    WHERE hp.bio IS NOT NULL\n",
    "    WITH hp, genai.vector.encode(\n",
    "        hp.bio,\n",
    "        \"OpenAI\",\n",
    "        {\n",
    "          token: $openAiApiKey,\n",
    "          endpoint: $openAiEndpoint\n",
    "        }) AS vector\n",
    "    WITH hp, vector\n",
    "    WHERE vector IS NOT NULL\n",
    "    CALL db.create.setNodeVectorProperty(hp, \"comprehensiveEmbedding\", vector)\n",
    "    \"\"\",\n",
    "    params={\n",
    "        \"openAiApiKey\": OPENAI_API_KEY,\n",
    "        \"openAiEndpoint\": OPENAI_ENDPOINT,\n",
    "    },\n",
    ")"
   ]
  },
  {
   "cell_type": "code",
   "execution_count": null,
   "metadata": {},
   "outputs": [
    {
     "name": "stdout",
     "output_type": "stream",
     "text": [
      "Document 1 (Score: 0.7997646767679749):\n",
      "Quantum computing is a type of computation that harnesses the collective properties of quantum states.\n",
      "\n",
      "Document 2 (Score: 0.0):\n",
      "Machine learning involves the use of algorithms that improve over time with data.\n",
      "\n"
     ]
    }
   ],
   "source": [
    "from langchain.schema import BaseRetriever, Document\n",
    "from rank_bm25 import BM25Okapi\n",
    "from pydantic import PrivateAttr\n",
    "\n",
    "class CustomBM25Retriever(BaseRetriever):\n",
    "    _bm25: BM25Okapi = PrivateAttr()\n",
    "    _docs: list = PrivateAttr()\n",
    "\n",
    "    def __init__(self, bm25, docs):\n",
    "        super().__init__()\n",
    "        self._bm25 = bm25\n",
    "        self._docs = docs\n",
    "\n",
    "    def _get_relevant_documents(self, query: str):\n",
    "        # Default to retrieving top 5 relevant documents\n",
    "        return [doc for doc, score in self._get_relevant_documents_with_scores(query, 5)]\n",
    "\n",
    "    def _get_relevant_documents_with_scores(self, query: str, k: int):\n",
    "        # Tokenize the query\n",
    "        query_tokens = query.split()\n",
    "\n",
    "        # Compute BM25 scores\n",
    "        scores = self._bm25.get_scores(query_tokens)\n",
    "\n",
    "        # Pair documents with scores and sort by relevance\n",
    "        scored_docs = sorted(zip(self._docs, scores), key=lambda x: x[1], reverse=True)\n",
    "\n",
    "        # Return top k documents with scores\n",
    "        return scored_docs[:k]\n",
    "\n",
    "# Sample documents\n",
    "docs = [\n",
    "    Document(page_content=\"Quantum computing is a type of computation that harnesses the collective properties of quantum states.\"),\n",
    "    Document(page_content=\"Machine learning involves the use of algorithms that improve over time with data.\"),\n",
    "    Document(page_content=\"Quantum mechanics is a fundamental theory in physics that describes nature at the smallest scales.\"),\n",
    "    Document(page_content=\"Artificial intelligence encompasses machine learning, natural language processing, and robotics.\"),\n",
    "]\n",
    "\n",
    "# Tokenize the documents\n",
    "tokenized_docs = [doc.page_content.split() for doc in docs]\n",
    "\n",
    "# Initialize BM25 with custom parameters\n",
    "bm25 = BM25Okapi(tokenized_docs, k1=1.5, b=0.7)\n",
    "\n",
    "# Create the custom retriever\n",
    "bm25_retriever = CustomBM25Retriever(bm25=bm25, docs=docs)\n",
    "\n",
    "# Test the retriever\n",
    "query = \"What is quantum mechanics?\"\n",
    "top_k = 2  # Get top 2 relevant documents\n",
    "retrieved_docs_with_scores = bm25_retriever._get_relevant_documents_with_scores(query, top_k)\n",
    "\n",
    "# Display retrieved documents and their scores\n",
    "for i, (doc, score) in enumerate(retrieved_docs_with_scores, 1):\n",
    "    print(f\"Document {i} (Score: {score}):\\n{doc.page_content}\\n\")"
   ]
  },
  {
   "cell_type": "code",
   "execution_count": 25,
   "metadata": {},
   "outputs": [
    {
     "data": {
      "text/plain": [
       "[Document(metadata={}, page_content='Quantum computing is a type of computation that harnesses the collective properties of quantum states.')]"
      ]
     },
     "execution_count": 25,
     "metadata": {},
     "output_type": "execute_result"
    }
   ],
   "source": [
    "retrieved_docs"
   ]
  }
 ],
 "metadata": {
  "kernelspec": {
   "display_name": "3.11.6",
   "language": "python",
   "name": "python3"
  },
  "language_info": {
   "codemirror_mode": {
    "name": "ipython",
    "version": 3
   },
   "file_extension": ".py",
   "mimetype": "text/x-python",
   "name": "python",
   "nbconvert_exporter": "python",
   "pygments_lexer": "ipython3",
   "version": "3.11.6"
  }
 },
 "nbformat": 4,
 "nbformat_minor": 2
}
